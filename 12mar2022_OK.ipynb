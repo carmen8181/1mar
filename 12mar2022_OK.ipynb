{
 "cells": [
  {
   "cell_type": "code",
   "execution_count": 78,
   "id": "836e749c",
   "metadata": {},
   "outputs": [],
   "source": [
    "import numpy as np\n",
    "import pandas as pd\n",
    "from sklearn.linear_model import LinearRegression\n",
    "import inventorize as inv\n",
    "import matplotlib.pyplot as plt"
   ]
  },
  {
   "cell_type": "code",
   "execution_count": 79,
   "id": "1a81df29",
   "metadata": {},
   "outputs": [],
   "source": [
    "#not able to upload using github...any ideas?\n",
    "merelide=pd.read_excel(r'C:\\Users\\user\\Desktop\\LEAD\\products_testing.xlsx')\n",
    "                       "
   ]
  },
  {
   "cell_type": "code",
   "execution_count": 80,
   "id": "d5881542",
   "metadata": {},
   "outputs": [
    {
     "data": {
      "text/html": [
       "<div>\n",
       "<style scoped>\n",
       "    .dataframe tbody tr th:only-of-type {\n",
       "        vertical-align: middle;\n",
       "    }\n",
       "\n",
       "    .dataframe tbody tr th {\n",
       "        vertical-align: top;\n",
       "    }\n",
       "\n",
       "    .dataframe thead th {\n",
       "        text-align: right;\n",
       "    }\n",
       "</style>\n",
       "<table border=\"1\" class=\"dataframe\">\n",
       "  <thead>\n",
       "    <tr style=\"text-align: right;\">\n",
       "      <th></th>\n",
       "      <th>DATE</th>\n",
       "      <th>Month</th>\n",
       "      <th>Year</th>\n",
       "      <th>Month_Year</th>\n",
       "      <th>INVOICE_NUMBER</th>\n",
       "      <th>SKU_CODE</th>\n",
       "      <th>SKU_Description</th>\n",
       "      <th>QUANTITY</th>\n",
       "      <th>PRICE</th>\n",
       "      <th>VALUE</th>\n",
       "      <th>COST</th>\n",
       "    </tr>\n",
       "  </thead>\n",
       "  <tbody>\n",
       "    <tr>\n",
       "      <th>30</th>\n",
       "      <td>2017-07-07</td>\n",
       "      <td>Jul</td>\n",
       "      <td>2017</td>\n",
       "      <td>Jul2017</td>\n",
       "      <td>102939843</td>\n",
       "      <td>10000000058291</td>\n",
       "      <td>Merelide 50/mcg 20doses</td>\n",
       "      <td>17</td>\n",
       "      <td>145</td>\n",
       "      <td>2465</td>\n",
       "      <td>13</td>\n",
       "    </tr>\n",
       "    <tr>\n",
       "      <th>25</th>\n",
       "      <td>2017-06-27</td>\n",
       "      <td>Jun</td>\n",
       "      <td>2017</td>\n",
       "      <td>Jun2017</td>\n",
       "      <td>103992831</td>\n",
       "      <td>10000000058291</td>\n",
       "      <td>Merelide 50/mcg 20doses</td>\n",
       "      <td>23</td>\n",
       "      <td>145</td>\n",
       "      <td>3335</td>\n",
       "      <td>13</td>\n",
       "    </tr>\n",
       "    <tr>\n",
       "      <th>52</th>\n",
       "      <td>2019-11-02</td>\n",
       "      <td>Nov</td>\n",
       "      <td>2019</td>\n",
       "      <td>Nov2019</td>\n",
       "      <td>102999302</td>\n",
       "      <td>10000000058291</td>\n",
       "      <td>Merelide 50/mcg 20doses</td>\n",
       "      <td>1</td>\n",
       "      <td>152</td>\n",
       "      <td>152</td>\n",
       "      <td>13</td>\n",
       "    </tr>\n",
       "  </tbody>\n",
       "</table>\n",
       "</div>"
      ],
      "text/plain": [
       "         DATE Month  Year Month_Year  INVOICE_NUMBER        SKU_CODE  \\\n",
       "30 2017-07-07   Jul  2017    Jul2017       102939843  10000000058291   \n",
       "25 2017-06-27   Jun  2017    Jun2017       103992831  10000000058291   \n",
       "52 2019-11-02   Nov  2019    Nov2019       102999302  10000000058291   \n",
       "\n",
       "            SKU_Description  QUANTITY  PRICE  VALUE  COST  \n",
       "30  Merelide 50/mcg 20doses        17    145   2465    13  \n",
       "25  Merelide 50/mcg 20doses        23    145   3335    13  \n",
       "52  Merelide 50/mcg 20doses         1    152    152    13  "
      ]
     },
     "execution_count": 80,
     "metadata": {},
     "output_type": "execute_result"
    }
   ],
   "source": [
    "merelide.sample(3)"
   ]
  },
  {
   "cell_type": "code",
   "execution_count": 81,
   "id": "4f3c67f1",
   "metadata": {
    "scrolled": true
   },
   "outputs": [
    {
     "name": "stdout",
     "output_type": "stream",
     "text": [
      "<class 'pandas.core.frame.DataFrame'>\n",
      "RangeIndex: 60 entries, 0 to 59\n",
      "Data columns (total 11 columns):\n",
      " #   Column           Non-Null Count  Dtype         \n",
      "---  ------           --------------  -----         \n",
      " 0   DATE             60 non-null     datetime64[ns]\n",
      " 1   Month            60 non-null     object        \n",
      " 2   Year             60 non-null     int64         \n",
      " 3   Month_Year       60 non-null     object        \n",
      " 4   INVOICE_NUMBER   60 non-null     int64         \n",
      " 5   SKU_CODE         60 non-null     int64         \n",
      " 6   SKU_Description  60 non-null     object        \n",
      " 7   QUANTITY         60 non-null     int64         \n",
      " 8   PRICE            60 non-null     int64         \n",
      " 9   VALUE            60 non-null     int64         \n",
      " 10  COST             60 non-null     int64         \n",
      "dtypes: datetime64[ns](1), int64(7), object(3)\n",
      "memory usage: 5.3+ KB\n"
     ]
    }
   ],
   "source": [
    "merelide.info()"
   ]
  },
  {
   "cell_type": "code",
   "execution_count": 82,
   "id": "d2a1ff94",
   "metadata": {},
   "outputs": [],
   "source": [
    "merelide['DATE']=pd.to_datetime(merelide['DATE'])"
   ]
  },
  {
   "cell_type": "code",
   "execution_count": 83,
   "id": "2f3d0587",
   "metadata": {},
   "outputs": [],
   "source": [
    "merelide['year']=merelide['DATE'].dt.year"
   ]
  },
  {
   "cell_type": "code",
   "execution_count": 84,
   "id": "10c2e641",
   "metadata": {},
   "outputs": [],
   "source": [
    "merelide['month']=merelide['DATE'].dt.month"
   ]
  },
  {
   "cell_type": "code",
   "execution_count": 85,
   "id": "bdf1900e",
   "metadata": {},
   "outputs": [],
   "source": [
    "merelide['monthyear']=merelide['Month_Year']"
   ]
  },
  {
   "cell_type": "code",
   "execution_count": 86,
   "id": "340ce8b5",
   "metadata": {},
   "outputs": [],
   "source": [
    "yearly_sales= merelide.groupby(['SKU_Description', 'monthyear']).agg(total_sales=\n",
    "                                                                     ('QUANTITY','sum'),\n",
    "                                                                    price=('PRICE', 'mean')).reset_index()"
   ]
  },
  {
   "cell_type": "code",
   "execution_count": null,
   "id": "63891710",
   "metadata": {},
   "outputs": [],
   "source": []
  },
  {
   "cell_type": "code",
   "execution_count": null,
   "id": "11e70869",
   "metadata": {},
   "outputs": [],
   "source": []
  }
 ],
 "metadata": {
  "kernelspec": {
   "display_name": "Python 3 (ipykernel)",
   "language": "python",
   "name": "python3"
  },
  "language_info": {
   "codemirror_mode": {
    "name": "ipython",
    "version": 3
   },
   "file_extension": ".py",
   "mimetype": "text/x-python",
   "name": "python",
   "nbconvert_exporter": "python",
   "pygments_lexer": "ipython3",
   "version": "3.9.7"
  }
 },
 "nbformat": 4,
 "nbformat_minor": 5
}
